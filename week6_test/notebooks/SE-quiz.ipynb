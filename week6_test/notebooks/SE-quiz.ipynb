{
 "cells": [
  {
   "cell_type": "markdown",
   "metadata": {},
   "source": [
    "# QUIZ - 2024-08"
   ]
  },
  {
   "cell_type": "code",
   "execution_count": 8,
   "metadata": {
    "vscode": {
     "languageId": "plaintext"
    }
   },
   "outputs": [],
   "source": [
    "import os\n",
    "os.environ[\"DJANGO_ALLOW_ASYNC_UNSAFE\"] = \"true\"\n",
    "from datetime import datetime, date, time\n",
    "from service.models import *\n",
    "from django.db.models import *\n",
    "from django.db.models.functions import *\n",
    "from zoneinfo import ZoneInfo"
   ]
  },
  {
   "cell_type": "markdown",
   "metadata": {},
   "source": [
    "## PART 1 - CRUD Operations\n",
    "1.1 สร้างนัดหมาย (`Appointment`) ของลูกค้า \"Customer 1\" ซึ่งต้องการจองบริการ \"Haircut\" ของ \"Provider 2\"\n",
    "\n",
    "โดยสร้างนัดหมายในวันที่ 2024-10-01 เวลา 11:00 น. \n",
    "\n",
    "(0.5 คะแนน)\n",
    "\n",
    "*หมายเหตุ: จะต้อง get ข้อมูลมาโดยใช้การ query ด้วยชื่อตามที่โจทย์ว่าเท่านั้น ห้ามใช้ id ใน database*"
   ]
  },
  {
   "cell_type": "code",
   "execution_count": 4,
   "metadata": {
    "vscode": {
     "languageId": "plaintext"
    }
   },
   "outputs": [],
   "source": [
    "cust = Customer.objects.get(name=\"Customer 1\")\n",
    "ser = Service.objects.get(service_provider__name=\"Provider 2\", name=\"Haircut\")\n",
    "ap1 = Appointment.objects.create(\n",
    "    customer = cust,\n",
    "    service = ser,\n",
    "    appointment_date = date(2024,10,1),\n",
    "    appointment_time = time(11,0),\n",
    ")"
   ]
  },
  {
   "cell_type": "code",
   "execution_count": 5,
   "metadata": {
    "vscode": {
     "languageId": "plaintext"
    }
   },
   "outputs": [
    {
     "name": "stdout",
     "output_type": "stream",
     "text": [
      "Appoint Date: 2024-10-01, Appoint Time: 11:00:00\n",
      "Service Name: Haircut, Provider Name: Provider 2, Customer Name: Customer 1\n"
     ]
    }
   ],
   "source": [
    "# Check result\n",
    "res = Appointment.objects.last()\n",
    "print(f\"Appoint Date: {res.appointment_date}, Appoint Time: {res.appointment_time}\")\n",
    "print(f\"Service Name: {res.service.name}, Provider Name: {res.service.service_provider.name}, Customer Name: {res.customer.name}\")"
   ]
  },
  {
   "cell_type": "markdown",
   "metadata": {},
   "source": [
    "1.2 ทำการแก้ไขนัดหมายที่เพิ่งสร้างใน 1.1 โดยเปลี่ยนวันที่จากวันที่ 2024-10-01 เป็น 2024-10-10 เวลาเดิม\n",
    "\n",
    "(0.25 คะแนน)"
   ]
  },
  {
   "cell_type": "code",
   "execution_count": 6,
   "metadata": {
    "vscode": {
     "languageId": "plaintext"
    }
   },
   "outputs": [],
   "source": [
    "ap1.appointment_date = date(2024,10,10)\n",
    "ap1.save()"
   ]
  },
  {
   "cell_type": "code",
   "execution_count": 7,
   "metadata": {
    "vscode": {
     "languageId": "plaintext"
    }
   },
   "outputs": [
    {
     "name": "stdout",
     "output_type": "stream",
     "text": [
      "Appoint Date: 2024-10-10, Appoint Time: 11:00:00\n",
      "Service Name: Haircut, Provider Name: Provider 2, Customer Name: Customer 1\n"
     ]
    }
   ],
   "source": [
    "# Check result\n",
    "res = Appointment.objects.last()\n",
    "print(f\"Appoint Date: {res.appointment_date}, Appoint Time: {res.appointment_time}\")\n",
    "print(f\"Service Name: {res.service.name}, Provider Name: {res.service.service_provider.name}, Customer Name: {res.customer.name}\")"
   ]
  },
  {
   "cell_type": "markdown",
   "metadata": {},
   "source": [
    "1.3 ทำการแก้ไขนัดหมาย ณ วันที่ 2024-08-14 ของ \"Customer 4\" โดยเปลี่ยนจากเดิมที่นัดมาให้บริการ \"Manicure\" ของ \"Provider 3\" เป็น \"Massage\" ของ \"Provider 4\" แทน\n",
    "\n",
    "(0.25 คะแนน)\n",
    "\n",
    "*หมายเหตุ: จะต้อง get ข้อมูลมาโดยใช้การ query ด้วยชื่อตามที่โจทย์ว่าเท่านั้น ห้ามใช้ id ใน database*"
   ]
  },
  {
   "cell_type": "code",
   "execution_count": 9,
   "metadata": {
    "vscode": {
     "languageId": "plaintext"
    }
   },
   "outputs": [],
   "source": [
    "ap2 = Appointment.objects.get(customer__name=\"Customer 4\", appointment_date = date(2024,8,14))\n",
    "ap2.service = Service.objects.get(name= \"Massage\",service_provider__name=\"Provider 4\")\n",
    "ap2.save()"
   ]
  },
  {
   "cell_type": "code",
   "execution_count": 10,
   "metadata": {
    "scrolled": true,
    "vscode": {
     "languageId": "plaintext"
    }
   },
   "outputs": [
    {
     "name": "stdout",
     "output_type": "stream",
     "text": [
      "Appoint Date: 2024-08-14, Appoint Time: 10:00:00\n",
      "Service Name: Massage, Provider Name: Provider 4, Customer Name: Customer 4\n"
     ]
    }
   ],
   "source": [
    "# Check result\n",
    "from datetime import *\n",
    "res = Appointment.objects.get(customer__name=\"Customer 4\", appointment_date=date(2024,8,14))\n",
    "print(f\"Appoint Date: {res.appointment_date}, Appoint Time: {res.appointment_time}\")\n",
    "print(f\"Service Name: {res.service.name}, Provider Name: {res.service.service_provider.name}, Customer Name: {res.customer.name}\")"
   ]
  },
  {
   "cell_type": "markdown",
   "metadata": {},
   "source": [
    "1.4 ทำตามขั้นตอนดังนี้\n",
    "\n",
    "1. สร้างหมวดหมู่บริการ (`ServiceCategory`) ใหม่ชื่อ \"Facial & Body Care\" และมีรายละเอียดว่า \"Services related to face & body care\" \n",
    "2. สร้าง บริการ (`Service`) ใหม่ดังนี้ \n",
    "\n",
    "    - Name: \"Face Massage\"\n",
    "    - Description: \"Special face massage!\"\n",
    "    - Price: 150.00\n",
    "    - โดยบริการนี้ให้บริการโดย \"Provider 1\" และ \"Provider 2\" (Hint: ดังนั้นต้องสร้าง 2 รายการ)\n",
    "\n",
    "3. เพิ่มบริการใหม่ทั้ง 2 รายการเข้าไปในหมวดหมู่ \"Facial & Body Care\"\n",
    "4. ทำการย้ายบริการ (`Service`) ในหมวดหมู่บริการ (`ServiceCategory`) \"Body Care\" ไปที่ หมวดหมู่ \"Facial & Body Care\" ที่สร้างขึ้นมาใหม่\n",
    "5. ทำการลบหมวดหมู่บริการ \"Body Care\"\n",
    "\n",
    "(1 คะแนน)"
   ]
  },
  {
   "cell_type": "code",
   "execution_count": 11,
   "metadata": {
    "vscode": {
     "languageId": "plaintext"
    }
   },
   "outputs": [],
   "source": [
    "#1\n",
    "cat = ServiceCategory.objects.create(\n",
    "    name = \"Facial & Body Care\" ,\n",
    "    description =  \"Services related to face & body care\",\n",
    ")"
   ]
  },
  {
   "cell_type": "code",
   "execution_count": 12,
   "metadata": {},
   "outputs": [],
   "source": [
    "#2\n",
    "p1 = ServiceProvider.objects.get(name=\"Provider 1\")\n",
    "p2 = ServiceProvider.objects.get(name=\"Provider 2\")\n",
    "\n",
    "s1 = Service.objects.create(\n",
    "    service_provider = p1,\n",
    "    name = \"Face Massage\",\n",
    "    description = \"Special face massage!\",\n",
    "    price = 150,\n",
    ")\n",
    "\n",
    "s2 = Service.objects.create(\n",
    "    service_provider = p2,\n",
    "    name = \"Face Massage\",\n",
    "    description = \"Special face massage!\",\n",
    "    price = 150,\n",
    ")"
   ]
  },
  {
   "cell_type": "code",
   "execution_count": 13,
   "metadata": {},
   "outputs": [],
   "source": [
    "#3\n",
    "cat.services.add(s1, s2)"
   ]
  },
  {
   "cell_type": "code",
   "execution_count": 15,
   "metadata": {},
   "outputs": [],
   "source": [
    "#4\n",
    "bc = ServiceCategory.objects.get(name=\"Body Care\")\n",
    "service = Service.objects.filter(servicecategory=bc)\n",
    "for s in service:\n",
    "    bc.service.remove(s)\n",
    "    cat.service.add(s)\n",
    "    \n",
    "bc.save()\n",
    "cat.save()"
   ]
  },
  {
   "cell_type": "code",
   "execution_count": 7,
   "metadata": {},
   "outputs": [
    {
     "data": {
      "text/plain": [
       "(1, {'service.ServiceCategory': 1})"
      ]
     },
     "execution_count": 7,
     "metadata": {},
     "output_type": "execute_result"
    }
   ],
   "source": [
    "#5\n",
    "bc.delete()"
   ]
  },
  {
   "cell_type": "code",
   "execution_count": 8,
   "metadata": {
    "vscode": {
     "languageId": "plaintext"
    }
   },
   "outputs": [
    {
     "data": {
      "text/plain": [
       "7"
      ]
     },
     "execution_count": 8,
     "metadata": {},
     "output_type": "execute_result"
    }
   ],
   "source": [
    "# Check result\n",
    "sc1 = ServiceCategory.objects.get(name=\"Facial & Body Care\")\n",
    "sc1.services.count()"
   ]
  },
  {
   "cell_type": "markdown",
   "metadata": {},
   "source": [
    "## PART 2 - Making Queries\n",
    "\n",
    "สำหรับ PART 2 ให้ทำการ reset DB และ import ข้อมูลใน `service.sql` เข้าไปใหม่"
   ]
  },
  {
   "cell_type": "markdown",
   "metadata": {},
   "source": [
    "2.1 ให้หาจำนวนนัดหมาย ที่ถูกสร้าง (`Appointment.created_at`) ในช่วงวันที่ 2024-08-01 ถึง 2024-08-02 \n",
    "\n",
    "(0.5 คะแนน)"
   ]
  },
  {
   "cell_type": "code",
   "execution_count": 13,
   "metadata": {},
   "outputs": [
    {
     "data": {
      "text/plain": [
       "4"
      ]
     },
     "execution_count": 13,
     "metadata": {},
     "output_type": "execute_result"
    }
   ],
   "source": [
    "dt1 = datetime(2024,8,1, tzinfo = ZoneInfo(key='Asia/Bangkok'))\n",
    "dt2 = datetime(2024,8,2, tzinfo = ZoneInfo(key='Asia/Bangkok'))\n",
    "Appointment.objects.filter(created_at__range=(dt1, dt2)).count()"
   ]
  },
  {
   "cell_type": "code",
   "execution_count": 31,
   "metadata": {},
   "outputs": [
    {
     "data": {
      "text/plain": [
       "4"
      ]
     },
     "execution_count": 31,
     "metadata": {},
     "output_type": "execute_result"
    }
   ],
   "source": []
  },
  {
   "cell_type": "markdown",
   "metadata": {},
   "source": [
    "2.2 ให้หาว่ามีบริการใด ของผู้ให้บริการไหนบ้าง ที่มีการนัดหมายท่ีมีการนัดหมาย (`Appointment.appoint_date`) ในช่วงวันที่ 2024-08-10 ถึง 2024-08-15\n",
    "\n",
    "(0.5 คะแนน)\n",
    "\n",
    "**Expected Output**\n",
    "\n",
    "```\n",
    "Name: Massage, Provider: Provider 1\n",
    "Name: Manicure, Provider: Provider 2\n",
    "Name: Manicure, Provider: Provider 2\n",
    "Name: Manicure, Provider: Provider 2\n",
    "Name: Massage, Provider: Provider 2\n",
    "Name: Manicure, Provider: Provider 3\n",
    "Name: Massage, Provider: Provider 3\n",
    "```"
   ]
  },
  {
   "cell_type": "code",
   "execution_count": 15,
   "metadata": {},
   "outputs": [
    {
     "name": "stdout",
     "output_type": "stream",
     "text": [
      "Name: Massage, Provider: Provider 1\n",
      "Name: Manicure, Provider: Provider 2\n",
      "Name: Manicure, Provider: Provider 2\n",
      "Name: Manicure, Provider: Provider 2\n",
      "Name: Massage, Provider: Provider 2\n",
      "Name: Manicure, Provider: Provider 3\n",
      "Name: Massage, Provider: Provider 3\n"
     ]
    }
   ],
   "source": [
    "service = Service.objects.filter(appointment__appointment_date__range=(date(2024,8,10), date(2024,8,15)))\n",
    "for s in service:\n",
    "    print(f\"Name: {s.name}, Provider: {s.service_provider.name}\")"
   ]
  },
  {
   "cell_type": "markdown",
   "metadata": {},
   "source": [
    "2.3 ให้แสดงผลข้อมูลบริการ (`Service`) โดยเรียงลำดับตามราคา (`Service.price`) จากน้อยไปมาก ดังในตัวอย่าง\n",
    "\n",
    "```python\n",
    "[\n",
    "    {\n",
    "        \"price\": 100,\n",
    "        \"full_name\": \"Massage (Provider 1)\"\n",
    "    },\n",
    "    {\n",
    "        \"price\": 100,\n",
    "        \"full_name\": \"Massage (Provider 2)\"\n",
    "    },\n",
    "    {\n",
    "        \"price\": 100,\n",
    "        \"full_name\": \"Massage (Provider 3)\"\n",
    "    },\n",
    "    {\n",
    "        \"price\": 100,\n",
    "        \"full_name\": \"Massage (Provider 4)\"\n",
    "    },\n",
    "    {\n",
    "        \"price\": 30,\n",
    "        \"full_name\": \"Manicure (Provider 4)\"\n",
    "    },\n",
    "    {\n",
    "        \"price\": 30,\n",
    "        \"full_name\": \"Manicure (Provider 1)\"\n",
    "    },\n",
    "    {\n",
    "        \"price\": 30,\n",
    "        \"full_name\": \"Manicure (Provider 3)\"\n",
    "    },\n",
    "    {\n",
    "        \"price\": 30,\n",
    "        \"full_name\": \"Manicure (Provider 2)\"\n",
    "    },\n",
    "    {\n",
    "        \"price\": 20,\n",
    "        \"full_name\": \"Haircut (Provider 4)\"\n",
    "    },\n",
    "    {\n",
    "        \"price\": 20,\n",
    "        \"full_name\": \"Haircut (Provider 2)\"\n",
    "    },\n",
    "    {\n",
    "        \"price\": 20,\n",
    "        \"full_name\": \"Haircut (Provider 3)\"\n",
    "    },\n",
    "    {\n",
    "        \"price\": 20,\n",
    "        \"full_name\": \"Haircut (Provider 1)\"\n",
    "    }\n",
    "]\n",
    "```\n",
    "\n",
    "(0.5 คะแนน)\n",
    "\n",
    "*หมายเหตุ: จะต้องใช้ `annotate()` และ `values()` เท่านั้น การ loop และสร้าง dict เองจะไม่ได้คะแนน*\n",
    "\n",
    "Hint: อยาก print dictionary สวยๆ ใช้ json.dumps\n",
    "\n",
    "```python\n",
    "print(json.dumps(dictionary, indent=4, sort_keys=False))\n",
    "```"
   ]
  },
  {
   "cell_type": "code",
   "execution_count": 18,
   "metadata": {},
   "outputs": [
    {
     "name": "stdout",
     "output_type": "stream",
     "text": [
      "[\n",
      "    {\n",
      "        \"price\": 100,\n",
      "        \"full_name\": \"Massage (Provider 4)\"\n",
      "    },\n",
      "    {\n",
      "        \"price\": 100,\n",
      "        \"full_name\": \"Massage (Provider 2)\"\n",
      "    },\n",
      "    {\n",
      "        \"price\": 100,\n",
      "        \"full_name\": \"Massage (Provider 1)\"\n",
      "    },\n",
      "    {\n",
      "        \"price\": 100,\n",
      "        \"full_name\": \"Massage (Provider 3)\"\n",
      "    },\n",
      "    {\n",
      "        \"price\": 30,\n",
      "        \"full_name\": \"Manicure (Provider 3)\"\n",
      "    },\n",
      "    {\n",
      "        \"price\": 30,\n",
      "        \"full_name\": \"Manicure (Provider 1)\"\n",
      "    },\n",
      "    {\n",
      "        \"price\": 30,\n",
      "        \"full_name\": \"Manicure (Provider 4)\"\n",
      "    },\n",
      "    {\n",
      "        \"price\": 30,\n",
      "        \"full_name\": \"Manicure (Provider 2)\"\n",
      "    },\n",
      "    {\n",
      "        \"price\": 20,\n",
      "        \"full_name\": \"Haircut (Provider 3)\"\n",
      "    },\n",
      "    {\n",
      "        \"price\": 20,\n",
      "        \"full_name\": \"Haircut (Provider 2)\"\n",
      "    },\n",
      "    {\n",
      "        \"price\": 20,\n",
      "        \"full_name\": \"Haircut (Provider 1)\"\n",
      "    },\n",
      "    {\n",
      "        \"price\": 20,\n",
      "        \"full_name\": \"Haircut (Provider 4)\"\n",
      "    }\n",
      "]\n"
     ]
    }
   ],
   "source": [
    "import json\n",
    "service = Service.objects.annotate(\n",
    "    full_name=Concat(F(\"name\"), Value(\" (\"), F(\"service_provider__name\"), Value(\")\"))\n",
    ").values(\"price\",\"full_name\").order_by(\"-price\")\n",
    "\n",
    "print(json.dumps(list(service), indent=4, sort_keys=False))"
   ]
  },
  {
   "cell_type": "markdown",
   "metadata": {},
   "source": [
    "2.4 ให้หาจำนวนนัดหมายของลูกค้าแต่ละคน\n",
    "\n",
    "(0.5 คะแนน)\n",
    "\n",
    "*หมายเหตุ: จะต้องใช้ `annotate()` และ `values()`*\n",
    "\n",
    "**Expected Output**\n",
    "\n",
    "```python\n",
    "Name: Customer 4, Total Appoinment: 3\n",
    "Name: Customer 2, Total Appoinment: 4\n",
    "Name: Customer 3, Total Appoinment: 3\n",
    "Name: Customer 1, Total Appoinment: 5\n",
    "```"
   ]
  },
  {
   "cell_type": "code",
   "execution_count": 23,
   "metadata": {
    "scrolled": true
   },
   "outputs": [
    {
     "name": "stdout",
     "output_type": "stream",
     "text": [
      "Name: Customer 2, Total Appoinment: 4\n",
      "Name: Customer 4, Total Appoinment: 3\n",
      "Name: Customer 3, Total Appoinment: 3\n",
      "Name: Customer 1, Total Appoinment: 5\n"
     ]
    }
   ],
   "source": [
    "ap = Appointment.objects.values(\"customer__name\").annotate(total_appointment=Count(\"id\"))\n",
    "\n",
    "for i in ap:\n",
    "    print(f\"Name: {i[\"customer__name\"]}, Total Appoinment: {i[\"total_appointment\"]}\")"
   ]
  },
  {
   "cell_type": "markdown",
   "metadata": {},
   "source": [
    "2.5 ให้หาว่าผู้ให้บริการ (`ServiceProvider`) แต่ละคนนั้นได้เงินโดยรวมเท่าไหร่\n",
    "\n",
    "Hint: ดูจากนั้ดหมายว่ามีการนัดบริการ (`Appointment.service`) ของแต่ละผู้ให้บริการรวมเป็นยอดเงินเท่าไหร่\n",
    "\n",
    "*หมายเหตุ: ไม่จำเป็นต้องใช้ `annotate()` สามารถ loop ได้เต็มที่เลยครับ*\n",
    "\n",
    "**Expected Output**\n",
    "\n",
    "```python\n",
    "Name: Provider 4, Total Price: 20\n",
    "Name: Provider 2, Total Price: 210\n",
    "Name: Provider 3, Total Price: 130\n",
    "Name: Provider 1, Total Price: 410\n",
    "```"
   ]
  },
  {
   "cell_type": "code",
   "execution_count": 26,
   "metadata": {},
   "outputs": [
    {
     "name": "stdout",
     "output_type": "stream",
     "text": [
      "Name: Provider 1, Total Price: 410\n",
      "Name: Provider 4, Total Price: 20\n",
      "Name: Provider 2, Total Price: 210\n",
      "Name: Provider 3, Total Price: 130\n"
     ]
    }
   ],
   "source": [
    "ap = Appointment.objects.values(\"service__service_provider__name\").annotate(total_price=Sum(\"service__price\"))\n",
    "\n",
    "for i in ap:\n",
    "    print(f\"Name: {i[\"service__service_provider__name\"]}, Total Price: {i[\"total_price\"]}\")"
   ]
  },
  {
   "cell_type": "markdown",
   "metadata": {},
   "source": [
    "2.6 ให้ดึงข้อมูลหมวดหมู่บริการโดยแปลงชื่อหมวดหมู่บริการ (`ServiceCategory.name`) เป็นตัวใหญ่ (uppercase) ทั้งหมด\n",
    "\n",
    "(0.5 คะแนน)\n",
    "\n",
    "**Expected Output**\n",
    "\n",
    "```python\n",
    "Name: Hair Care, Upper Name: HAIR CARE\n",
    "Name: Nail Care, Upper Name: NAIL CARE\n",
    "Name: Body Care, Upper Name: BODY CARE\n",
    "```"
   ]
  },
  {
   "cell_type": "code",
   "execution_count": 29,
   "metadata": {},
   "outputs": [
    {
     "name": "stdout",
     "output_type": "stream",
     "text": [
      "Name: Hair Care, Upper Name: HAIR CARE\n",
      "Name: Nail Care, Upper Name: NAIL CARE\n",
      "Name: Body Care, Upper Name: BODY CARE\n"
     ]
    }
   ],
   "source": [
    "service = ServiceCategory.objects.all()\n",
    "for i in service:\n",
    "    print(f\"Name: {i.name}, Upper Name: {i.name.upper()}\")"
   ]
  },
  {
   "cell_type": "code",
   "execution_count": null,
   "metadata": {},
   "outputs": [],
   "source": []
  }
 ],
 "metadata": {
  "kernelspec": {
   "display_name": "Django Shell-Plus",
   "language": "python",
   "name": "django_extensions"
  },
  "language_info": {
   "codemirror_mode": {
    "name": "ipython",
    "version": 3
   },
   "file_extension": ".py",
   "mimetype": "text/x-python",
   "name": "python",
   "nbconvert_exporter": "python",
   "pygments_lexer": "ipython3",
   "version": "3.12.5"
  }
 },
 "nbformat": 4,
 "nbformat_minor": 2
}
