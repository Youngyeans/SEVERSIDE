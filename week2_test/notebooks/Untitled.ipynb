{
 "cells": [
  {
   "cell_type": "code",
   "execution_count": 7,
   "id": "e5c9075c",
   "metadata": {},
   "outputs": [],
   "source": [
    "import os\n",
    "os.environ[\"DJANGO_ALLOW_ASYNC_UNSAFE\"] = \"true\"\n",
    "\n",
    "from zoneinfo import ZoneInfo\n",
    "from datetime import datetime"
   ]
  },
  {
   "cell_type": "code",
   "execution_count": 2,
   "id": "3ea4b2ef",
   "metadata": {},
   "outputs": [],
   "source": [
    "from week2.models import *"
   ]
  },
  {
   "cell_type": "code",
   "execution_count": 8,
   "id": "6f8f985c",
   "metadata": {},
   "outputs": [],
   "source": [
    "q1 = Question.objects.create(\n",
    "    question_text = \"Hello world?\",\n",
    "    pub_date = datetime(2024,1,1,11,0,0, tzinfo = ZoneInfo(key='Asia/Bangkok')),\n",
    ")"
   ]
  },
  {
   "cell_type": "code",
   "execution_count": 16,
   "id": "14249b54",
   "metadata": {},
   "outputs": [],
   "source": [
    "q1 =  Question.objects.get(question_text = \"Hello world?\")\n",
    "\n",
    "c1 = Choice.objects.create(\n",
    "    question = q1,\n",
    "    choice_text = \"Yes\",\n",
    "    votes = 0,\n",
    ")"
   ]
  },
  {
   "cell_type": "code",
   "execution_count": 20,
   "id": "e958685d",
   "metadata": {},
   "outputs": [
    {
     "data": {
      "text/plain": [
       "3"
      ]
     },
     "execution_count": 20,
     "metadata": {},
     "output_type": "execute_result"
    }
   ],
   "source": [
    "q1.choice_set.count()"
   ]
  },
  {
   "cell_type": "code",
   "execution_count": 19,
   "id": "edebcb96",
   "metadata": {},
   "outputs": [],
   "source": [
    "c2 = Choice.objects.create(\n",
    "    question = q1,\n",
    "    choice_text = \"No\",\n",
    "    votes = 0,\n",
    ")\n",
    "\n",
    "c3 = Choice.objects.create(\n",
    "    question = q1,\n",
    "    choice_text = \"OK\",\n",
    "    votes = 0,\n",
    ")"
   ]
  },
  {
   "cell_type": "code",
   "execution_count": 21,
   "id": "3ce6478d",
   "metadata": {},
   "outputs": [],
   "source": [
    "q2 = Question.objects.create(\n",
    "    question_text = \"What is up?\",\n",
    "    pub_date = datetime(2024,2,1,11,0,0, tzinfo = ZoneInfo(key='Asia/Bangkok')),\n",
    ")"
   ]
  },
  {
   "cell_type": "code",
   "execution_count": 22,
   "id": "d54b6f7d",
   "metadata": {},
   "outputs": [],
   "source": [
    "c4 = Choice.objects.create(\n",
    "    question = q2,\n",
    "    choice_text = \"Bye\",\n",
    "    votes = 0,\n",
    ")\n",
    "\n",
    "c5 = Choice.objects.create(\n",
    "    question = q2,\n",
    "    choice_text = \"Hello\",\n",
    "    votes = 0,\n",
    ")"
   ]
  },
  {
   "cell_type": "code",
   "execution_count": 23,
   "id": "1867000f",
   "metadata": {},
   "outputs": [
    {
     "data": {
      "text/plain": [
       "2"
      ]
     },
     "execution_count": 23,
     "metadata": {},
     "output_type": "execute_result"
    }
   ],
   "source": [
    "q2.choice_set.count()"
   ]
  },
  {
   "cell_type": "code",
   "execution_count": null,
   "id": "dbef24eb",
   "metadata": {},
   "outputs": [],
   "source": []
  }
 ],
 "metadata": {
  "kernelspec": {
   "display_name": "Django Shell-Plus",
   "language": "python",
   "name": "django_extensions"
  },
  "language_info": {
   "codemirror_mode": {
    "name": "ipython",
    "version": 3
   },
   "file_extension": ".py",
   "mimetype": "text/x-python",
   "name": "python",
   "nbconvert_exporter": "python",
   "pygments_lexer": "ipython3",
   "version": "3.12.5"
  }
 },
 "nbformat": 4,
 "nbformat_minor": 5
}
